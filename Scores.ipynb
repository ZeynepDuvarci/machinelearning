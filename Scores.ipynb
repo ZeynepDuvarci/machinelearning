{
  "nbformat": 4,
  "nbformat_minor": 0,
  "metadata": {
    "colab": {
      "name": "Scores.ipynb",
      "provenance": []
    },
    "kernelspec": {
      "name": "python3",
      "display_name": "Python 3"
    },
    "language_info": {
      "name": "python"
    }
  },
  "cells": [
    {
      "cell_type": "code",
      "execution_count": 2,
      "metadata": {
        "id": "NLFV0pFlJtcv"
      },
      "outputs": [],
      "source": [
        "import pandas as pd"
      ]
    },
    {
      "cell_type": "code",
      "source": [
        "df=pd.read_csv(\"score.csv\")"
      ],
      "metadata": {
        "id": "H76KQjBIK3TF"
      },
      "execution_count": 3,
      "outputs": []
    },
    {
      "cell_type": "code",
      "source": [
        "df.head()"
      ],
      "metadata": {
        "colab": {
          "base_uri": "https://localhost:8080/",
          "height": 206
        },
        "id": "osslCV4SLApE",
        "outputId": "eda2f494-2df1-4dfe-ea28-0dd8b56fd18c"
      },
      "execution_count": 4,
      "outputs": [
        {
          "output_type": "execute_result",
          "data": {
            "text/plain": [
              "   Hours  Scores\n",
              "0    2.5      21\n",
              "1    5.1      47\n",
              "2    3.2      27\n",
              "3    8.5      75\n",
              "4    3.5      30"
            ],
            "text/html": [
              "\n",
              "  <div id=\"df-1288448d-a4cb-4b23-915b-f735c042d85f\">\n",
              "    <div class=\"colab-df-container\">\n",
              "      <div>\n",
              "<style scoped>\n",
              "    .dataframe tbody tr th:only-of-type {\n",
              "        vertical-align: middle;\n",
              "    }\n",
              "\n",
              "    .dataframe tbody tr th {\n",
              "        vertical-align: top;\n",
              "    }\n",
              "\n",
              "    .dataframe thead th {\n",
              "        text-align: right;\n",
              "    }\n",
              "</style>\n",
              "<table border=\"1\" class=\"dataframe\">\n",
              "  <thead>\n",
              "    <tr style=\"text-align: right;\">\n",
              "      <th></th>\n",
              "      <th>Hours</th>\n",
              "      <th>Scores</th>\n",
              "    </tr>\n",
              "  </thead>\n",
              "  <tbody>\n",
              "    <tr>\n",
              "      <th>0</th>\n",
              "      <td>2.5</td>\n",
              "      <td>21</td>\n",
              "    </tr>\n",
              "    <tr>\n",
              "      <th>1</th>\n",
              "      <td>5.1</td>\n",
              "      <td>47</td>\n",
              "    </tr>\n",
              "    <tr>\n",
              "      <th>2</th>\n",
              "      <td>3.2</td>\n",
              "      <td>27</td>\n",
              "    </tr>\n",
              "    <tr>\n",
              "      <th>3</th>\n",
              "      <td>8.5</td>\n",
              "      <td>75</td>\n",
              "    </tr>\n",
              "    <tr>\n",
              "      <th>4</th>\n",
              "      <td>3.5</td>\n",
              "      <td>30</td>\n",
              "    </tr>\n",
              "  </tbody>\n",
              "</table>\n",
              "</div>\n",
              "      <button class=\"colab-df-convert\" onclick=\"convertToInteractive('df-1288448d-a4cb-4b23-915b-f735c042d85f')\"\n",
              "              title=\"Convert this dataframe to an interactive table.\"\n",
              "              style=\"display:none;\">\n",
              "        \n",
              "  <svg xmlns=\"http://www.w3.org/2000/svg\" height=\"24px\"viewBox=\"0 0 24 24\"\n",
              "       width=\"24px\">\n",
              "    <path d=\"M0 0h24v24H0V0z\" fill=\"none\"/>\n",
              "    <path d=\"M18.56 5.44l.94 2.06.94-2.06 2.06-.94-2.06-.94-.94-2.06-.94 2.06-2.06.94zm-11 1L8.5 8.5l.94-2.06 2.06-.94-2.06-.94L8.5 2.5l-.94 2.06-2.06.94zm10 10l.94 2.06.94-2.06 2.06-.94-2.06-.94-.94-2.06-.94 2.06-2.06.94z\"/><path d=\"M17.41 7.96l-1.37-1.37c-.4-.4-.92-.59-1.43-.59-.52 0-1.04.2-1.43.59L10.3 9.45l-7.72 7.72c-.78.78-.78 2.05 0 2.83L4 21.41c.39.39.9.59 1.41.59.51 0 1.02-.2 1.41-.59l7.78-7.78 2.81-2.81c.8-.78.8-2.07 0-2.86zM5.41 20L4 18.59l7.72-7.72 1.47 1.35L5.41 20z\"/>\n",
              "  </svg>\n",
              "      </button>\n",
              "      \n",
              "  <style>\n",
              "    .colab-df-container {\n",
              "      display:flex;\n",
              "      flex-wrap:wrap;\n",
              "      gap: 12px;\n",
              "    }\n",
              "\n",
              "    .colab-df-convert {\n",
              "      background-color: #E8F0FE;\n",
              "      border: none;\n",
              "      border-radius: 50%;\n",
              "      cursor: pointer;\n",
              "      display: none;\n",
              "      fill: #1967D2;\n",
              "      height: 32px;\n",
              "      padding: 0 0 0 0;\n",
              "      width: 32px;\n",
              "    }\n",
              "\n",
              "    .colab-df-convert:hover {\n",
              "      background-color: #E2EBFA;\n",
              "      box-shadow: 0px 1px 2px rgba(60, 64, 67, 0.3), 0px 1px 3px 1px rgba(60, 64, 67, 0.15);\n",
              "      fill: #174EA6;\n",
              "    }\n",
              "\n",
              "    [theme=dark] .colab-df-convert {\n",
              "      background-color: #3B4455;\n",
              "      fill: #D2E3FC;\n",
              "    }\n",
              "\n",
              "    [theme=dark] .colab-df-convert:hover {\n",
              "      background-color: #434B5C;\n",
              "      box-shadow: 0px 1px 3px 1px rgba(0, 0, 0, 0.15);\n",
              "      filter: drop-shadow(0px 1px 2px rgba(0, 0, 0, 0.3));\n",
              "      fill: #FFFFFF;\n",
              "    }\n",
              "  </style>\n",
              "\n",
              "      <script>\n",
              "        const buttonEl =\n",
              "          document.querySelector('#df-1288448d-a4cb-4b23-915b-f735c042d85f button.colab-df-convert');\n",
              "        buttonEl.style.display =\n",
              "          google.colab.kernel.accessAllowed ? 'block' : 'none';\n",
              "\n",
              "        async function convertToInteractive(key) {\n",
              "          const element = document.querySelector('#df-1288448d-a4cb-4b23-915b-f735c042d85f');\n",
              "          const dataTable =\n",
              "            await google.colab.kernel.invokeFunction('convertToInteractive',\n",
              "                                                     [key], {});\n",
              "          if (!dataTable) return;\n",
              "\n",
              "          const docLinkHtml = 'Like what you see? Visit the ' +\n",
              "            '<a target=\"_blank\" href=https://colab.research.google.com/notebooks/data_table.ipynb>data table notebook</a>'\n",
              "            + ' to learn more about interactive tables.';\n",
              "          element.innerHTML = '';\n",
              "          dataTable['output_type'] = 'display_data';\n",
              "          await google.colab.output.renderOutput(dataTable, element);\n",
              "          const docLink = document.createElement('div');\n",
              "          docLink.innerHTML = docLinkHtml;\n",
              "          element.appendChild(docLink);\n",
              "        }\n",
              "      </script>\n",
              "    </div>\n",
              "  </div>\n",
              "  "
            ]
          },
          "metadata": {},
          "execution_count": 4
        }
      ]
    },
    {
      "cell_type": "code",
      "source": [
        "df.shape"
      ],
      "metadata": {
        "colab": {
          "base_uri": "https://localhost:8080/"
        },
        "id": "w1zXFzUqLEpc",
        "outputId": "dff0263f-dbda-48fd-918d-b4dcfce8f0ca"
      },
      "execution_count": 5,
      "outputs": [
        {
          "output_type": "execute_result",
          "data": {
            "text/plain": [
              "(25, 2)"
            ]
          },
          "metadata": {},
          "execution_count": 5
        }
      ]
    },
    {
      "cell_type": "code",
      "source": [
        "df.info()"
      ],
      "metadata": {
        "colab": {
          "base_uri": "https://localhost:8080/"
        },
        "id": "7ypzOCGJLL5s",
        "outputId": "9027374b-8c0a-4166-c293-ad46e04662f1"
      },
      "execution_count": 6,
      "outputs": [
        {
          "output_type": "stream",
          "name": "stdout",
          "text": [
            "<class 'pandas.core.frame.DataFrame'>\n",
            "RangeIndex: 25 entries, 0 to 24\n",
            "Data columns (total 2 columns):\n",
            " #   Column  Non-Null Count  Dtype  \n",
            "---  ------  --------------  -----  \n",
            " 0   Hours   25 non-null     float64\n",
            " 1   Scores  25 non-null     int64  \n",
            "dtypes: float64(1), int64(1)\n",
            "memory usage: 528.0 bytes\n"
          ]
        }
      ]
    },
    {
      "cell_type": "code",
      "source": [
        "import matplotlib.pyplot as plt"
      ],
      "metadata": {
        "id": "hAlKkqNhLT_D"
      },
      "execution_count": 7,
      "outputs": []
    },
    {
      "cell_type": "code",
      "source": [
        "plt.scatter(x=df[\"Hours\"],y=df[\"Scores\"],color=\"green\")\n",
        "plt.xlabel(\"Hours\")\n",
        "plt.ylabel(\"Scores\")\n",
        "\n",
        "plt.title(\"Hours vs. Scores\")"
      ],
      "metadata": {
        "colab": {
          "base_uri": "https://localhost:8080/",
          "height": 312
        },
        "id": "bFd9T92XMJBC",
        "outputId": "0dd62a5e-6fc1-4838-c8d4-0b56d2368de6"
      },
      "execution_count": 8,
      "outputs": [
        {
          "output_type": "execute_result",
          "data": {
            "text/plain": [
              "Text(0.5, 1.0, 'Hours vs. Scores')"
            ]
          },
          "metadata": {},
          "execution_count": 8
        },
        {
          "output_type": "display_data",
          "data": {
            "text/plain": [
              "<Figure size 432x288 with 1 Axes>"
            ],
            "image/png": "[encoded data removed]"
          },
          "metadata": {
            "needs_background": "light"
          }
        }
      ]
    },
    {
      "cell_type": "code",
      "source": [
        "x=df[\"Hours\"]\n",
        "y=df[\"Scores\"]"
      ],
      "metadata": {
        "id": "IxRRzIarMpCY"
      },
      "execution_count": 9,
      "outputs": []
    },
    {
      "cell_type": "code",
      "source": [
        "print(x)"
      ],
      "metadata": {
        "colab": {
          "base_uri": "https://localhost:8080/"
        },
        "id": "SubbMljdNcBU",
        "outputId": "cc421205-283b-459a-9f08-a2b967328a2e"
      },
      "execution_count": 10,
      "outputs": [
        {
          "output_type": "stream",
          "name": "stdout",
          "text": [
            "0     2.5\n",
            "1     5.1\n",
            "2     3.2\n",
            "3     8.5\n",
            "4     3.5\n",
            "5     1.5\n",
            "6     9.2\n",
            "7     5.5\n",
            "8     8.3\n",
            "9     2.7\n",
            "10    7.7\n",
            "11    5.9\n",
            "12    4.5\n",
            "13    3.3\n",
            "14    1.1\n",
            "15    8.9\n",
            "16    2.5\n",
            "17    1.9\n",
            "18    6.1\n",
            "19    7.4\n",
            "20    2.7\n",
            "21    4.8\n",
            "22    3.8\n",
            "23    6.9\n",
            "24    7.8\n",
            "Name: Hours, dtype: float64\n"
          ]
        }
      ]
    },
    {
      "cell_type": "code",
      "source": [
        "print(y)"
      ],
      "metadata": {
        "colab": {
          "base_uri": "https://localhost:8080/"
        },
        "id": "5RQ65KRzNdjq",
        "outputId": "45f84470-029e-40e7-e500-45f0127afb3e"
      },
      "execution_count": 11,
      "outputs": [
        {
          "output_type": "stream",
          "name": "stdout",
          "text": [
            "0     21\n",
            "1     47\n",
            "2     27\n",
            "3     75\n",
            "4     30\n",
            "5     20\n",
            "6     88\n",
            "7     60\n",
            "8     81\n",
            "9     25\n",
            "10    85\n",
            "11    62\n",
            "12    41\n",
            "13    42\n",
            "14    17\n",
            "15    95\n",
            "16    30\n",
            "17    24\n",
            "18    67\n",
            "19    69\n",
            "20    30\n",
            "21    54\n",
            "22    35\n",
            "23    76\n",
            "24    86\n",
            "Name: Scores, dtype: int64\n"
          ]
        }
      ]
    },
    {
      "cell_type": "code",
      "source": [
        "import sklearn.model_selection"
      ],
      "metadata": {
        "id": "1aynymN4NfTW"
      },
      "execution_count": 12,
      "outputs": []
    },
    {
      "cell_type": "code",
      "source": [
        "x_train,x_test,y_train,y_test=sklearn.model_selection.train_test_split(x,y,train_size=0.8)"
      ],
      "metadata": {
        "id": "nMfr6tEoNrtQ"
      },
      "execution_count": 13,
      "outputs": []
    },
    {
      "cell_type": "code",
      "source": [
        "print(x_train)"
      ],
      "metadata": {
        "colab": {
          "base_uri": "https://localhost:8080/"
        },
        "id": "Cn0MBNIAOZI1",
        "outputId": "8f80c25b-c07e-4072-ffc5-e1ee6496d608"
      },
      "execution_count": 14,
      "outputs": [
        {
          "output_type": "stream",
          "name": "stdout",
          "text": [
            "14    1.1\n",
            "19    7.4\n",
            "6     9.2\n",
            "3     8.5\n",
            "15    8.9\n",
            "20    2.7\n",
            "8     8.3\n",
            "13    3.3\n",
            "17    1.9\n",
            "12    4.5\n",
            "9     2.7\n",
            "22    3.8\n",
            "0     2.5\n",
            "23    6.9\n",
            "24    7.8\n",
            "1     5.1\n",
            "5     1.5\n",
            "21    4.8\n",
            "18    6.1\n",
            "11    5.9\n",
            "Name: Hours, dtype: float64\n"
          ]
        }
      ]
    },
    {
      "cell_type": "code",
      "source": [
        "print(y_train)"
      ],
      "metadata": {
        "colab": {
          "base_uri": "https://localhost:8080/"
        },
        "id": "AXMpJH9DOezr",
        "outputId": "b49503dc-93e9-4d26-ecbd-4d647a5f1adb"
      },
      "execution_count": 15,
      "outputs": [
        {
          "output_type": "stream",
          "name": "stdout",
          "text": [
            "14    17\n",
            "19    69\n",
            "6     88\n",
            "3     75\n",
            "15    95\n",
            "20    30\n",
            "8     81\n",
            "13    42\n",
            "17    24\n",
            "12    41\n",
            "9     25\n",
            "22    35\n",
            "0     21\n",
            "23    76\n",
            "24    86\n",
            "1     47\n",
            "5     20\n",
            "21    54\n",
            "18    67\n",
            "11    62\n",
            "Name: Scores, dtype: int64\n"
          ]
        }
      ]
    },
    {
      "cell_type": "code",
      "source": [
        "print(x_test)"
      ],
      "metadata": {
        "colab": {
          "base_uri": "https://localhost:8080/"
        },
        "id": "EJEQVO1YOiEL",
        "outputId": "c2fa734f-8c47-4aa5-b9dc-58270897dba3"
      },
      "execution_count": 16,
      "outputs": [
        {
          "output_type": "stream",
          "name": "stdout",
          "text": [
            "4     3.5\n",
            "16    2.5\n",
            "2     3.2\n",
            "10    7.7\n",
            "7     5.5\n",
            "Name: Hours, dtype: float64\n"
          ]
        }
      ]
    },
    {
      "cell_type": "code",
      "source": [
        "print(y_test)"
      ],
      "metadata": {
        "colab": {
          "base_uri": "https://localhost:8080/"
        },
        "id": "UWv1VcwVOuh9",
        "outputId": "6203f43a-b66c-4e7e-8c20-4e6eb20f66d8"
      },
      "execution_count": 17,
      "outputs": [
        {
          "output_type": "stream",
          "name": "stdout",
          "text": [
            "4     30\n",
            "16    30\n",
            "2     27\n",
            "10    85\n",
            "7     60\n",
            "Name: Scores, dtype: int64\n"
          ]
        }
      ]
    },
    {
      "cell_type": "code",
      "source": [
        "import numpy as np"
      ],
      "metadata": {
        "id": "dyx7s5BjOwM4"
      },
      "execution_count": 18,
      "outputs": []
    },
    {
      "cell_type": "code",
      "source": [
        "x_train=np.array(x_train)\n",
        "y_train=np.array(y_train)\n",
        "x_test=np.array(x_test)\n",
        "y_test=np.array(y_test)"
      ],
      "metadata": {
        "id": "KEnRnZSMP-ix"
      },
      "execution_count": 19,
      "outputs": []
    },
    {
      "cell_type": "code",
      "source": [
        "x_train=x_train.reshape(-1,1)\n",
        "y_train=y_train.reshape(-1,1)\n",
        "x_test=x_test.reshape(-1,1)\n",
        "y_test=y_test.reshape(-1,1)"
      ],
      "metadata": {
        "id": "9aYTjT_LQUpB"
      },
      "execution_count": 20,
      "outputs": []
    },
    {
      "cell_type": "code",
      "source": [
        "print(x_train.shape)\n",
        "print(y_train.shape)\n",
        "print(x_test.shape)\n",
        "print(y_test.shape)"
      ],
      "metadata": {
        "colab": {
          "base_uri": "https://localhost:8080/"
        },
        "id": "T5-Yt7oAQ2PZ",
        "outputId": "753b0100-2d14-457b-a030-959c86aa8e7d"
      },
      "execution_count": 21,
      "outputs": [
        {
          "output_type": "stream",
          "name": "stdout",
          "text": [
            "(20, 1)\n",
            "(20, 1)\n",
            "(5, 1)\n",
            "(5, 1)\n"
          ]
        }
      ]
    },
    {
      "cell_type": "code",
      "source": [
        "import sklearn.linear_model"
      ],
      "metadata": {
        "id": "p26VV2f1SEzc"
      },
      "execution_count": 22,
      "outputs": []
    },
    {
      "cell_type": "code",
      "source": [
        "lin_model=sklearn.linear_model.LinearRegression()"
      ],
      "metadata": {
        "id": "2bHsqnXET6oV"
      },
      "execution_count": 23,
      "outputs": []
    },
    {
      "cell_type": "code",
      "source": [
        "lin_model.fit(x_train,y_train)\n"
      ],
      "metadata": {
        "colab": {
          "base_uri": "https://localhost:8080/"
        },
        "id": "qffU2lhlUVdo",
        "outputId": "db3fc5b9-c664-4549-ffda-9c5b9955448e"
      },
      "execution_count": 24,
      "outputs": [
        {
          "output_type": "execute_result",
          "data": {
            "text/plain": [
              "LinearRegression()"
            ]
          },
          "metadata": {},
          "execution_count": 24
        }
      ]
    },
    {
      "cell_type": "code",
      "source": [
        "import sklearn.metrics"
      ],
      "metadata": {
        "id": "1FTuXuKjV2VV"
      },
      "execution_count": 25,
      "outputs": []
    },
    {
      "cell_type": "code",
      "source": [
        "predictions=lin_model.predict(x_test)"
      ],
      "metadata": {
        "id": "m5YNaxFtR1mZ"
      },
      "execution_count": 26,
      "outputs": []
    },
    {
      "cell_type": "code",
      "source": [
        "for i in range(len(x_test)):\n",
        "  print(x_test[i])"
      ],
      "metadata": {
        "colab": {
          "base_uri": "https://localhost:8080/"
        },
        "id": "4WTa-qHRS3OZ",
        "outputId": "f44f6bc0-2304-464d-b503-232868703405"
      },
      "execution_count": 29,
      "outputs": [
        {
          "output_type": "stream",
          "name": "stdout",
          "text": [
            "[3.5]\n",
            "[2.5]\n",
            "[3.2]\n",
            "[7.7]\n",
            "[5.5]\n"
          ]
        }
      ]
    },
    {
      "cell_type": "code",
      "source": [
        "print(predictions)"
      ],
      "metadata": {
        "colab": {
          "base_uri": "https://localhost:8080/"
        },
        "id": "sJoju_jySQ-C",
        "outputId": "7ab1935f-2cd1-444d-eac4-f66a871aa304"
      },
      "execution_count": 27,
      "outputs": [
        {
          "output_type": "stream",
          "name": "stdout",
          "text": [
            "[[37.1114607 ]\n",
            " [27.60474989]\n",
            " [34.25944746]\n",
            " [77.03964614]\n",
            " [56.12488234]]\n"
          ]
        }
      ]
    },
    {
      "cell_type": "code",
      "source": [
        "for i in range(len(x_test)):\n",
        "  print(f\"{i}: Gerçek değer: {y_test[i]} - Tahmin: {predictions[i]}\")"
      ],
      "metadata": {
        "colab": {
          "base_uri": "https://localhost:8080/"
        },
        "id": "zPGwrVaqSUt8",
        "outputId": "3508f483-26b5-45d0-b13e-4272002ef90a"
      },
      "execution_count": 30,
      "outputs": [
        {
          "output_type": "stream",
          "name": "stdout",
          "text": [
            "0: Gerçek değer: [30] - Tahmin: [37.1114607]\n",
            "1: Gerçek değer: [30] - Tahmin: [27.60474989]\n",
            "2: Gerçek değer: [27] - Tahmin: [34.25944746]\n",
            "3: Gerçek değer: [85] - Tahmin: [77.03964614]\n",
            "4: Gerçek değer: [60] - Tahmin: [56.12488234]\n"
          ]
        }
      ]
    },
    {
      "cell_type": "code",
      "source": [
        "r2=sklearn.metrics.r2_score(y_test,predictions)\n",
        "mae=sklearn.metrics.mean_absolute_error(y_test,predictions)\n",
        "mse=sklearn.metrics.mean_squared_error(y_test,predictions)"
      ],
      "metadata": {
        "id": "2m41SEG-T4la"
      },
      "execution_count": 37,
      "outputs": []
    },
    {
      "cell_type": "code",
      "source": [
        "print(f\"R2: {r2}\")\n",
        "print(f\"MAE: {mae}\")\n",
        "print(f\"MSE: {mse}\") "
      ],
      "metadata": {
        "colab": {
          "base_uri": "https://localhost:8080/"
        },
        "id": "Sv9rBzuGURf0",
        "outputId": "a6b1dd10-520c-427d-a8a1-1105733ca4d9"
      },
      "execution_count": 38,
      "outputs": [
        {
          "output_type": "stream",
          "name": "stdout",
          "text": [
            "R2: 0.9276249635700843\n",
            "MAE: 5.720325959371334\n",
            "MSE: 37.478688864867564\n"
          ]
        }
      ]
    },
    {
      "cell_type": "code",
      "source": [
        "score_tahmini= lin_model.predict([[5]])\n",
        "# bir öğrenci 5 saat çalışırsa kaç puan alır ?\n",
        "print(score_tahmini)"
      ],
      "metadata": {
        "colab": {
          "base_uri": "https://localhost:8080/"
        },
        "id": "Ny12VTp2UXds",
        "outputId": "57ed5471-801a-465e-cbe5-a8153d07f3b3"
      },
      "execution_count": 39,
      "outputs": [
        {
          "output_type": "stream",
          "name": "stdout",
          "text": [
            "[[51.37152693]]\n"
          ]
        }
      ]
    },
    {
      "cell_type": "code",
      "source": [
        "x_predictions=lin_model.predict(x_train)\n",
        "plt.scatter(x=df[\"Hours\"],y=df[\"Scores\"],color=\"green\")\n",
        "plt.plot(x_train,x_predictions)\n",
        "\n",
        "plt.xlabel(\"Hours\")\n",
        "plt.ylabel(\"Scores\")\n",
        "\n",
        "plt.title(\"Hours vs. Scores\")\n",
        "plt.show()"
      ],
      "metadata": {
        "colab": {
          "base_uri": "https://localhost:8080/",
          "height": 295
        },
        "id": "vIygUC7VWaBX",
        "outputId": "abb5fcee-651d-4774-d394-33c393eba345"
      },
      "execution_count": 42,
      "outputs": [
        {
          "output_type": "display_data",
          "data": {
            "text/plain": [
              "<Figure size 432x288 with 1 Axes>"
            ],
            "image/png": "[encoded data removed]"
          },
          "metadata": {
            "needs_background": "light"
          }
        }
      ]
    }
  ]
}